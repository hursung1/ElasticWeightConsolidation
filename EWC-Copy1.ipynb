{
 "cells": [
  {
   "cell_type": "code",
   "execution_count": 1,
   "metadata": {},
   "outputs": [],
   "source": [
    "import os\n",
    "import torch\n",
    "import torchvision\n",
    "import numpy as np\n",
    "import matplotlib.pyplot as plt\n",
    "\n",
    "import pyfiles.PMNISTDataLoader as DataLoader\n",
    "import pyfiles.models as models\n",
    "import pyfiles.train as train\n",
    "import pyfiles.eval as evalu\n",
    "import pyfiles.lib as lib"
   ]
  },
  {
   "cell_type": "code",
   "execution_count": 3,
   "metadata": {},
   "outputs": [],
   "source": [
    "num_task = 10\n",
    "batch_size = 128\n",
    "train_loader, test_loader = lib.setPMNISTDataLoader(num_task, batch_size)"
   ]
  },
  {
   "cell_type": "code",
   "execution_count": 4,
   "metadata": {},
   "outputs": [],
   "source": [
    "hidden_layer_num = 1000\n",
    "epochs = 100"
   ]
  },
  {
   "cell_type": "markdown",
   "metadata": {},
   "source": [
    "### Plain"
   ]
  },
  {
   "cell_type": "code",
   "execution_count": 5,
   "metadata": {},
   "outputs": [
    {
     "name": "stdout",
     "output_type": "stream",
     "text": [
      "[Epoch 20/100] Loss: 503.108\n",
      "[Epoch 40/100] Loss: 315.067\n",
      "[Epoch 60/100] Loss: 253.982\n",
      "[Epoch 80/100] Loss: 207.756\n",
      "[Epoch 100/100] Loss: 172.592\n",
      "[Task 1] avg accuracy: 94.670%\n",
      "tensor([94.6700], device='cuda:3')\n"
     ]
    },
    {
     "name": "stderr",
     "output_type": "stream",
     "text": [
      "/home/mind-222/anaconda3/lib/python3.7/site-packages/torchvision/datasets/mnist.py:48: UserWarning: test_labels has been renamed targets\n",
      "  warnings.warn(\"test_labels has been renamed targets\")\n"
     ]
    },
    {
     "name": "stdout",
     "output_type": "stream",
     "text": [
      "[Epoch 20/100] Loss: 206.324\n",
      "[Epoch 40/100] Loss: 152.285\n",
      "[Epoch 60/100] Loss: 120.917\n",
      "[Epoch 80/100] Loss: 99.434\n",
      "[Epoch 100/100] Loss: 83.517\n",
      "[Task 2] avg accuracy: 93.730%\n",
      "tensor([90.6500, 96.8100], device='cuda:3')\n"
     ]
    },
    {
     "ename": "KeyboardInterrupt",
     "evalue": "",
     "output_type": "error",
     "traceback": [
      "\u001b[0;31m---------------------------------------------------------------------------\u001b[0m",
      "\u001b[0;31mKeyboardInterrupt\u001b[0m                         Traceback (most recent call last)",
      "\u001b[0;32m<ipython-input-5-f4b6af9a4f20>\u001b[0m in \u001b[0;36m<module>\u001b[0;34m\u001b[0m\n\u001b[1;32m     13\u001b[0m         \u001b[0moptim\u001b[0m \u001b[0;34m=\u001b[0m \u001b[0moptim\u001b[0m\u001b[0;34m,\u001b[0m\u001b[0;34m\u001b[0m\u001b[0;34m\u001b[0m\u001b[0m\n\u001b[1;32m     14\u001b[0m         \u001b[0mcrit\u001b[0m \u001b[0;34m=\u001b[0m \u001b[0mcrit\u001b[0m\u001b[0;34m,\u001b[0m\u001b[0;34m\u001b[0m\u001b[0;34m\u001b[0m\u001b[0m\n\u001b[0;32m---> 15\u001b[0;31m         \u001b[0mnet\u001b[0m \u001b[0;34m=\u001b[0m \u001b[0mnet\u001b[0m\u001b[0;34m,\u001b[0m\u001b[0;34m\u001b[0m\u001b[0;34m\u001b[0m\u001b[0m\n\u001b[0m\u001b[1;32m     16\u001b[0m     )\n\u001b[1;32m     17\u001b[0m \u001b[0;34m\u001b[0m\u001b[0m\n",
      "\u001b[0;32m~/gradprojects/ElasticWeightConsolidation/pyfiles/train.py\u001b[0m in \u001b[0;36mFineTuning\u001b[0;34m(**kwargs)\u001b[0m\n\u001b[1;32m     28\u001b[0m             \u001b[0moutputs\u001b[0m \u001b[0;34m=\u001b[0m \u001b[0mnet\u001b[0m\u001b[0;34m(\u001b[0m\u001b[0mx\u001b[0m\u001b[0;34m)\u001b[0m\u001b[0;34m\u001b[0m\u001b[0;34m\u001b[0m\u001b[0m\n\u001b[1;32m     29\u001b[0m             \u001b[0mloss\u001b[0m \u001b[0;34m=\u001b[0m \u001b[0mcrit\u001b[0m\u001b[0;34m(\u001b[0m\u001b[0moutputs\u001b[0m\u001b[0;34m,\u001b[0m \u001b[0my\u001b[0m\u001b[0;34m)\u001b[0m\u001b[0;34m\u001b[0m\u001b[0;34m\u001b[0m\u001b[0m\n\u001b[0;32m---> 30\u001b[0;31m             \u001b[0mloss\u001b[0m\u001b[0;34m.\u001b[0m\u001b[0mbackward\u001b[0m\u001b[0;34m(\u001b[0m\u001b[0;34m)\u001b[0m\u001b[0;34m\u001b[0m\u001b[0;34m\u001b[0m\u001b[0m\n\u001b[0m\u001b[1;32m     31\u001b[0m             \u001b[0moptim\u001b[0m\u001b[0;34m.\u001b[0m\u001b[0mstep\u001b[0m\u001b[0;34m(\u001b[0m\u001b[0;34m)\u001b[0m\u001b[0;34m\u001b[0m\u001b[0;34m\u001b[0m\u001b[0m\n\u001b[1;32m     32\u001b[0m             \u001b[0mrunning_loss\u001b[0m \u001b[0;34m+=\u001b[0m \u001b[0mloss\u001b[0m\u001b[0;34m.\u001b[0m\u001b[0mitem\u001b[0m\u001b[0;34m(\u001b[0m\u001b[0;34m)\u001b[0m\u001b[0;34m\u001b[0m\u001b[0;34m\u001b[0m\u001b[0m\n",
      "\u001b[0;32m~/anaconda3/lib/python3.7/site-packages/torch/tensor.py\u001b[0m in \u001b[0;36mbackward\u001b[0;34m(self, gradient, retain_graph, create_graph)\u001b[0m\n\u001b[1;32m    164\u001b[0m                 \u001b[0mproducts\u001b[0m\u001b[0;34m.\u001b[0m \u001b[0mDefaults\u001b[0m \u001b[0mto\u001b[0m\u001b[0;31m \u001b[0m\u001b[0;31m`\u001b[0m\u001b[0;31m`\u001b[0m\u001b[0;32mFalse\u001b[0m\u001b[0;31m`\u001b[0m\u001b[0;31m`\u001b[0m\u001b[0;34m.\u001b[0m\u001b[0;34m\u001b[0m\u001b[0;34m\u001b[0m\u001b[0m\n\u001b[1;32m    165\u001b[0m         \"\"\"\n\u001b[0;32m--> 166\u001b[0;31m         \u001b[0mtorch\u001b[0m\u001b[0;34m.\u001b[0m\u001b[0mautograd\u001b[0m\u001b[0;34m.\u001b[0m\u001b[0mbackward\u001b[0m\u001b[0;34m(\u001b[0m\u001b[0mself\u001b[0m\u001b[0;34m,\u001b[0m \u001b[0mgradient\u001b[0m\u001b[0;34m,\u001b[0m \u001b[0mretain_graph\u001b[0m\u001b[0;34m,\u001b[0m \u001b[0mcreate_graph\u001b[0m\u001b[0;34m)\u001b[0m\u001b[0;34m\u001b[0m\u001b[0;34m\u001b[0m\u001b[0m\n\u001b[0m\u001b[1;32m    167\u001b[0m \u001b[0;34m\u001b[0m\u001b[0m\n\u001b[1;32m    168\u001b[0m     \u001b[0;32mdef\u001b[0m \u001b[0mregister_hook\u001b[0m\u001b[0;34m(\u001b[0m\u001b[0mself\u001b[0m\u001b[0;34m,\u001b[0m \u001b[0mhook\u001b[0m\u001b[0;34m)\u001b[0m\u001b[0;34m:\u001b[0m\u001b[0;34m\u001b[0m\u001b[0;34m\u001b[0m\u001b[0m\n",
      "\u001b[0;32m~/anaconda3/lib/python3.7/site-packages/torch/autograd/__init__.py\u001b[0m in \u001b[0;36mbackward\u001b[0;34m(tensors, grad_tensors, retain_graph, create_graph, grad_variables)\u001b[0m\n\u001b[1;32m     97\u001b[0m     Variable._execution_engine.run_backward(\n\u001b[1;32m     98\u001b[0m         \u001b[0mtensors\u001b[0m\u001b[0;34m,\u001b[0m \u001b[0mgrad_tensors\u001b[0m\u001b[0;34m,\u001b[0m \u001b[0mretain_graph\u001b[0m\u001b[0;34m,\u001b[0m \u001b[0mcreate_graph\u001b[0m\u001b[0;34m,\u001b[0m\u001b[0;34m\u001b[0m\u001b[0;34m\u001b[0m\u001b[0m\n\u001b[0;32m---> 99\u001b[0;31m         allow_unreachable=True)  # allow_unreachable flag\n\u001b[0m\u001b[1;32m    100\u001b[0m \u001b[0;34m\u001b[0m\u001b[0m\n\u001b[1;32m    101\u001b[0m \u001b[0;34m\u001b[0m\u001b[0m\n",
      "\u001b[0;31mKeyboardInterrupt\u001b[0m: "
     ]
    }
   ],
   "source": [
    "net = models.FCNetwork(hidden_layer_num)\n",
    "crit = torch.nn.CrossEntropyLoss()\n",
    "if torch.cuda.is_available():\n",
    "    net = net.cuda(3)\n",
    "    crit = crit.cuda(3)\n",
    "\n",
    "optim = torch.optim.SGD(net.parameters(), lr=0.001)\n",
    "plain_acc = {}\n",
    "for t in range(num_task):\n",
    "    train.FineTuning(\n",
    "        dataloader = train_loader[t],\n",
    "        epochs = epochs, \n",
    "        optim = optim,\n",
    "        crit = crit,\n",
    "        net = net,\n",
    "    )\n",
    "    \n",
    "    each_task_acc, acc_mean = evalu.eval(\n",
    "        dataloader = test_loader,\n",
    "        num_task = t,\n",
    "        net = net\n",
    "    )\n",
    "    print(each_task_acc)\n",
    "    plain_acc[t] = acc_mean\n"
   ]
  },
  {
   "cell_type": "code",
   "execution_count": 4,
   "metadata": {
    "collapsed": true
   },
   "outputs": [
    {
     "data": {
      "image/png": "[encoded data removed]",
      "text/plain": [
       "<Figure size 432x288 with 1 Axes>"
      ]
     },
     "metadata": {
      "needs_background": "light"
     },
     "output_type": "display_data"
    }
   ],
   "source": [
    "x, y = list(plain_acc.keys()), list(plain_acc.values())\n",
    "plt.xlabel('# of tasks')\n",
    "plt.ylabel('Average Accruacy')\n",
    "plt.title('Average Accuracy: Plain SGD')\n",
    "plt.plot(x, y)\n",
    "plt.show()"
   ]
  },
  {
   "cell_type": "markdown",
   "metadata": {},
   "source": [
    "### L2"
   ]
  },
  {
   "cell_type": "code",
   "execution_count": 8,
   "metadata": {
    "collapsed": true
   },
   "outputs": [
    {
     "name": "stdout",
     "output_type": "stream",
     "text": [
      "Lambda 10000.000000\n",
      "[Epoch 20/100] Loss: 450.571\n",
      "[Epoch 40/100] Loss: 303.737\n",
      "[Epoch 60/100] Loss: 244.009\n",
      "[Epoch 80/100] Loss: 196.953\n",
      "[Epoch 100/100] Loss: 161.218\n",
      "[Task 1] avg accuracy: 94.950%\n",
      "tensor([94.9500], device='cuda:0')\n",
      "[Epoch 20/100] Loss: 197.031\n",
      "[Epoch 40/100] Loss: 141.334\n",
      "[Epoch 60/100] Loss: 110.965\n",
      "[Epoch 80/100] Loss: 90.726\n",
      "[Epoch 100/100] Loss: 75.859\n",
      "[Task 2] avg accuracy: 93.660%\n",
      "tensor([90.4100, 96.9100], device='cuda:0')\n",
      "[Epoch 20/100] Loss: 134.805\n",
      "[Epoch 40/100] Loss: 93.943\n",
      "[Epoch 60/100] Loss: 72.416\n",
      "[Epoch 80/100] Loss: 58.074\n",
      "[Epoch 100/100] Loss: 47.521\n",
      "[Task 3] avg accuracy: 92.310%\n",
      "tensor([87.9200, 91.6600, 97.3500], device='cuda:0')\n",
      "[Epoch 20/100] Loss: 107.431\n",
      "[Epoch 40/100] Loss: 71.598\n",
      "[Epoch 60/100] Loss: 53.128\n",
      "[Epoch 80/100] Loss: 41.133\n",
      "[Epoch 100/100] Loss: 32.592\n",
      "[Task 4] avg accuracy: 88.337%\n",
      "tensor([82.3900, 82.9200, 90.6700, 97.3700], device='cuda:0')\n",
      "[Epoch 20/100] Loss: 86.493\n",
      "[Epoch 40/100] Loss: 55.000\n",
      "[Epoch 60/100] Loss: 39.415\n",
      "[Epoch 80/100] Loss: 29.738\n",
      "[Epoch 100/100] Loss: 23.184\n",
      "[Task 5] avg accuracy: 87.322%\n",
      "tensor([81.5200, 78.1900, 85.2400, 94.1000, 97.5600], device='cuda:0')\n",
      "[Epoch 20/100] Loss: 73.947\n",
      "[Epoch 40/100] Loss: 45.495\n",
      "[Epoch 60/100] Loss: 31.778\n",
      "[Epoch 80/100] Loss: 23.472\n",
      "[Epoch 100/100] Loss: 17.974\n",
      "[Task 6] avg accuracy: 82.387%\n",
      "tensor([67.9100, 69.6600, 78.2700, 88.2900, 92.5200, 97.6700], device='cuda:0')\n",
      "[Epoch 20/100] Loss: 66.047\n",
      "[Epoch 40/100] Loss: 37.861\n",
      "[Epoch 60/100] Loss: 25.116\n",
      "[Epoch 80/100] Loss: 17.939\n",
      "[Epoch 100/100] Loss: 13.490\n",
      "[Task 7] avg accuracy: 79.713%\n",
      "tensor([69.4100, 64.0500, 70.1400, 80.4000, 88.9500, 87.6300, 97.4100],\n",
      "       device='cuda:0')\n",
      "[Epoch 20/100] Loss: 58.591\n",
      "[Epoch 40/100] Loss: 32.693\n",
      "[Epoch 60/100] Loss: 21.484\n",
      "[Epoch 80/100] Loss: 15.367\n",
      "[Epoch 100/100] Loss: 11.637\n",
      "[Task 8] avg accuracy: 76.847%\n",
      "tensor([63.5400, 66.2900, 60.4800, 65.7800, 81.7100, 86.1400, 93.1100, 97.7300],\n",
      "       device='cuda:0')\n",
      "[Epoch 20/100] Loss: 52.319\n",
      "[Epoch 40/100] Loss: 27.676\n",
      "[Epoch 60/100] Loss: 17.603\n",
      "[Epoch 80/100] Loss: 12.377\n",
      "[Epoch 100/100] Loss: 9.275\n",
      "[Task 9] avg accuracy: 75.879%\n",
      "tensor([61.5700, 64.6400, 62.6100, 65.7400, 77.6100, 75.3600, 85.9200, 92.1300,\n",
      "        97.3300], device='cuda:0')\n",
      "[Epoch 20/100] Loss: 48.496\n",
      "[Epoch 40/100] Loss: 25.048\n",
      "[Epoch 60/100] Loss: 15.601\n",
      "[Epoch 80/100] Loss: 10.839\n",
      "[Epoch 100/100] Loss: 8.081\n",
      "[Task 10] avg accuracy: 69.272%\n",
      "tensor([47.8200, 46.1700, 49.7300, 67.8400, 68.2600, 61.8000, 78.8700, 83.9200,\n",
      "        90.8400, 97.4700], device='cuda:0')\n",
      "Lambda 30000.000000\n",
      "[Epoch 20/100] Loss: 480.938\n",
      "[Epoch 40/100] Loss: 304.439\n",
      "[Epoch 60/100] Loss: 248.469\n",
      "[Epoch 80/100] Loss: 204.294\n",
      "[Epoch 100/100] Loss: 168.902\n",
      "[Task 1] avg accuracy: 94.730%\n",
      "tensor([94.7300], device='cuda:0')\n",
      "[Epoch 20/100] Loss: 202.422\n",
      "[Epoch 40/100] Loss: 145.836\n",
      "[Epoch 60/100] Loss: 114.788\n",
      "[Epoch 80/100] Loss: 93.882\n",
      "[Epoch 100/100] Loss: 78.293\n",
      "[Task 2] avg accuracy: 93.655%\n",
      "tensor([90.3200, 96.9900], device='cuda:0')\n",
      "[Epoch 20/100] Loss: 139.220\n",
      "[Epoch 40/100] Loss: 97.822\n",
      "[Epoch 60/100] Loss: 75.735\n",
      "[Epoch 80/100] Loss: 60.954\n",
      "[Epoch 100/100] Loss: 50.121\n",
      "[Task 3] avg accuracy: 92.140%\n",
      "tensor([84.9100, 94.0700, 97.4400], device='cuda:0')\n",
      "[Epoch 20/100] Loss: 110.659\n",
      "[Epoch 40/100] Loss: 73.213\n",
      "[Epoch 60/100] Loss: 54.218\n",
      "[Epoch 80/100] Loss: 41.863\n",
      "[Epoch 100/100] Loss: 33.081\n",
      "[Task 4] avg accuracy: 88.202%\n",
      "tensor([80.8000, 83.4500, 90.9900, 97.5700], device='cuda:0')\n",
      "[Epoch 20/100] Loss: 85.878\n",
      "[Epoch 40/100] Loss: 54.451\n",
      "[Epoch 60/100] Loss: 38.851\n",
      "[Epoch 80/100] Loss: 29.188\n",
      "[Epoch 100/100] Loss: 22.606\n",
      "[Task 5] avg accuracy: 87.934%\n",
      "tensor([82.1500, 83.1000, 83.0600, 93.7200, 97.6400], device='cuda:0')\n",
      "[Epoch 20/100] Loss: 76.553\n",
      "[Epoch 40/100] Loss: 46.728\n",
      "[Epoch 60/100] Loss: 32.358\n",
      "[Epoch 80/100] Loss: 23.756\n",
      "[Epoch 100/100] Loss: 18.109\n",
      "[Task 6] avg accuracy: 85.343%\n",
      "tensor([71.0100, 82.4500, 78.3100, 89.8100, 92.9000, 97.5800], device='cuda:0')\n",
      "[Epoch 20/100] Loss: 66.045\n",
      "[Epoch 40/100] Loss: 37.737\n",
      "[Epoch 60/100] Loss: 24.994\n",
      "[Epoch 80/100] Loss: 17.865\n",
      "[Epoch 100/100] Loss: 13.410\n",
      "[Task 7] avg accuracy: 80.980%\n",
      "tensor([69.5000, 76.9500, 68.7200, 77.4100, 87.7700, 89.0700, 97.4400],\n",
      "       device='cuda:0')\n",
      "[Epoch 20/100] Loss: 59.071\n",
      "[Epoch 40/100] Loss: 33.092\n",
      "[Epoch 60/100] Loss: 21.602\n",
      "[Epoch 80/100] Loss: 15.348\n",
      "[Epoch 100/100] Loss: 11.519\n",
      "[Task 8] avg accuracy: 75.977%\n",
      "tensor([65.7800, 66.2500, 60.2500, 59.0800, 79.9200, 86.3500, 92.6600, 97.5300],\n",
      "       device='cuda:0')\n",
      "[Epoch 20/100] Loss: 50.683\n",
      "[Epoch 40/100] Loss: 26.648\n",
      "[Epoch 60/100] Loss: 16.987\n",
      "[Epoch 80/100] Loss: 11.919\n",
      "[Epoch 100/100] Loss: 8.907\n",
      "[Task 9] avg accuracy: 75.103%\n",
      "tensor([62.3600, 68.0800, 57.7900, 57.9800, 70.8300, 82.1600, 85.5500, 93.7300,\n",
      "        97.4500], device='cuda:0')\n",
      "[Epoch 20/100] Loss: 46.223\n",
      "[Epoch 40/100] Loss: 23.185\n",
      "[Epoch 60/100] Loss: 14.426\n",
      "[Epoch 80/100] Loss: 10.069\n",
      "[Epoch 100/100] Loss: 7.517\n",
      "[Task 10] avg accuracy: 69.584%\n",
      "tensor([54.5000, 51.1700, 51.3800, 62.1000, 67.1700, 66.0700, 71.4600, 87.0700,\n",
      "        87.4900, 97.4300], device='cuda:0')\n"
     ]
    }
   ],
   "source": [
    "hidden_layer_num = 400\n",
    "epochs = 100\n",
    "ld_list = [10000, 30000]\n",
    "#past_task_params = torch.empty(0)\n",
    "l2_acc = {}\n",
    "\n",
    "for ld in ld_list:\n",
    "    print(\"Lambda %f\"%(ld))\n",
    "    net = models.FCNetwork(hidden_layer_num)\n",
    "    crit = torch.nn.CrossEntropyLoss()\n",
    "    if torch.cuda.is_available():\n",
    "        #past_task_params = past_task_params.cuda()\n",
    "        net = net.cuda()\n",
    "        crit = crit.cuda()\n",
    "\n",
    "    past_task_params = []\n",
    "    optim = torch.optim.SGD(net.parameters(), lr=0.001)    \n",
    "    l2_acc_per_ld = {}\n",
    "    for t in range(num_task):\n",
    "        train.L2Learning(\n",
    "            past_task_params = past_task_params,\n",
    "            dataloader = train_loader[t],\n",
    "            epochs = epochs,\n",
    "            optim = optim,\n",
    "            crit = crit,\n",
    "            net = net,\n",
    "            ld = ld\n",
    "        )\n",
    "\n",
    "        each_task_acc, acc_mean = evalu.eval(\n",
    "            dataloader = test_loader,\n",
    "            num_task = t,\n",
    "            net = net\n",
    "        )\n",
    "        print(each_task_acc)\n",
    "        l2_acc_per_ld[t] = acc_mean\n",
    "        \n",
    "    l2_acc[ld] = l2_acc_per_ld"
   ]
  },
  {
   "cell_type": "code",
   "execution_count": 7,
   "metadata": {
    "collapsed": true
   },
   "outputs": [
    {
     "data": {
      "image/png": "[encoded data removed]",
      "text/plain": [
       "<Figure size 432x288 with 1 Axes>"
      ]
     },
     "metadata": {
      "needs_background": "light"
     },
     "output_type": "display_data"
    }
   ],
   "source": [
    "plt.xlabel('# of tasks')\n",
    "plt.ylabel('Average Accuracy')\n",
    "plt.title('Average Accuracy: L2 Regularization')\n",
    "\n",
    "for coef, acc_dict in l2_acc.items():\n",
    "    x, y = list(acc_dict.keys()), list(acc_dict.values())\n",
    "    plt.plot(x, y, label=str(coef))\n",
    "    \n",
    "plt.legend(loc=3)\n",
    "if not os.path.isdir(\"plots\"):\n",
    "    os.mkdir(\"plots\")\n",
    "    \n",
    "plt.savefig(\"plots/L2_result.png\", dpi=300)\n",
    "plt.show()"
   ]
  },
  {
   "cell_type": "markdown",
   "metadata": {},
   "source": [
    "### EWC"
   ]
  },
  {
   "cell_type": "code",
   "execution_count": 9,
   "metadata": {},
   "outputs": [
    {
     "name": "stdout",
     "output_type": "stream",
     "text": [
      "Lambda 100.000000\n"
     ]
    },
    {
     "name": "stderr",
     "output_type": "stream",
     "text": [
      "/home/mind-222/anaconda3/lib/python3.7/site-packages/torchvision/datasets/mnist.py:43: UserWarning: train_labels has been renamed targets\n",
      "  warnings.warn(\"train_labels has been renamed targets\")\n"
     ]
    },
    {
     "name": "stdout",
     "output_type": "stream",
     "text": [
      "[Epoch 20/100] Loss: 367.124\n",
      "[Epoch 40/100] Loss: 231.764\n",
      "[Epoch 60/100] Loss: 190.859\n",
      "[Epoch 80/100] Loss: 167.632\n",
      "[Epoch 100/100] Loss: 150.761\n"
     ]
    },
    {
     "name": "stderr",
     "output_type": "stream",
     "text": [
      "/home/mind-222/anaconda3/lib/python3.7/site-packages/torchvision/datasets/mnist.py:48: UserWarning: test_labels has been renamed targets\n",
      "  warnings.warn(\"test_labels has been renamed targets\")\n"
     ]
    },
    {
     "name": "stdout",
     "output_type": "stream",
     "text": [
      "[Task 1] avg accuracy: 92.520%\n",
      "tensor([92.5200], device='cuda:3')\n",
      "[Epoch 20/100] Loss: 205.274\n",
      "[Epoch 40/100] Loss: 164.546\n",
      "[Epoch 60/100] Loss: 141.502\n",
      "[Epoch 80/100] Loss: 127.952\n",
      "[Epoch 100/100] Loss: 116.363\n",
      "[Task 2] avg accuracy: 92.615%\n",
      "tensor([90.8400, 94.3900], device='cuda:3')\n",
      "[Epoch 20/100] Loss: 183.477\n",
      "[Epoch 40/100] Loss: 147.864\n",
      "[Epoch 60/100] Loss: 129.957\n",
      "[Epoch 80/100] Loss: 116.924\n",
      "[Epoch 100/100] Loss: 108.061\n",
      "[Task 3] avg accuracy: 92.657%\n",
      "tensor([89.9400, 92.8100, 95.2200], device='cuda:3')\n",
      "[Epoch 20/100] Loss: 183.329\n",
      "[Epoch 40/100] Loss: 149.852\n",
      "[Epoch 60/100] Loss: 131.986\n",
      "[Epoch 80/100] Loss: 119.921\n",
      "[Epoch 100/100] Loss: 111.840\n",
      "[Task 4] avg accuracy: 92.872%\n",
      "tensor([89.8300, 92.3300, 93.9500, 95.3800], device='cuda:3')\n",
      "[Epoch 20/100] Loss: 188.089\n",
      "[Epoch 40/100] Loss: 154.078\n",
      "[Epoch 60/100] Loss: 136.859\n",
      "[Epoch 80/100] Loss: 126.882\n",
      "[Epoch 100/100] Loss: 119.250\n",
      "[Task 5] avg accuracy: 92.658%\n",
      "tensor([88.4200, 92.0800, 92.7600, 94.6400, 95.3900], device='cuda:3')\n",
      "[Epoch 20/100] Loss: 195.704\n",
      "[Epoch 40/100] Loss: 163.323\n",
      "[Epoch 60/100] Loss: 147.017\n",
      "[Epoch 80/100] Loss: 136.975\n",
      "[Epoch 100/100] Loss: 128.191\n",
      "[Task 6] avg accuracy: 92.233%\n",
      "tensor([87.0000, 91.2500, 92.1600, 92.6800, 94.6700, 95.6400], device='cuda:3')\n",
      "[Epoch 20/100] Loss: 207.479\n",
      "[Epoch 40/100] Loss: 175.300\n",
      "[Epoch 60/100] Loss: 158.347\n",
      "[Epoch 80/100] Loss: 149.329\n",
      "[Epoch 100/100] Loss: 140.670\n",
      "[Task 7] avg accuracy: 91.603%\n",
      "tensor([86.9500, 91.5300, 90.1800, 90.5800, 92.4500, 93.9600, 95.5700],\n",
      "       device='cuda:3')\n",
      "[Epoch 20/100] Loss: 221.919\n",
      "[Epoch 40/100] Loss: 189.648\n",
      "[Epoch 60/100] Loss: 174.010\n",
      "[Epoch 80/100] Loss: 163.573\n",
      "[Epoch 100/100] Loss: 155.867\n",
      "[Task 8] avg accuracy: 90.802%\n",
      "tensor([87.9900, 91.3400, 91.4700, 89.2800, 86.1900, 90.7500, 93.6300, 95.7700],\n",
      "       device='cuda:3')\n",
      "[Epoch 20/100] Loss: 239.003\n",
      "[Epoch 40/100] Loss: 207.232\n",
      "[Epoch 60/100] Loss: 191.185\n",
      "[Epoch 80/100] Loss: 181.344\n",
      "[Epoch 100/100] Loss: 173.085\n",
      "[Task 9] avg accuracy: 89.780%\n",
      "tensor([86.9900, 91.0300, 90.9000, 89.2800, 86.9000, 87.0400, 89.0000, 91.1100,\n",
      "        95.7700], device='cuda:3')\n",
      "[Epoch 20/100] Loss: 254.768\n",
      "[Epoch 40/100] Loss: 223.392\n",
      "[Epoch 60/100] Loss: 208.183\n",
      "[Epoch 80/100] Loss: 197.946\n",
      "[Epoch 100/100] Loss: 190.494\n",
      "[Task 10] avg accuracy: 89.274%\n",
      "tensor([89.4000, 92.1000, 91.6000, 92.0400, 87.5000, 83.6200, 84.2600, 83.8400,\n",
      "        92.7400, 95.6400], device='cuda:3')\n"
     ]
    }
   ],
   "source": [
    "ld_list=[100]\n",
    "ewc_acc = {}\n",
    "\n",
    "for ld in ld_list:\n",
    "    print(\"Lambda %f\"%(ld))\n",
    "    net = models.FCNetwork(hidden_layer_num)\n",
    "#     net = models.ConvolutionNetwork()\n",
    "\n",
    "    crit = torch.nn.CrossEntropyLoss()\n",
    "    if torch.cuda.is_available():\n",
    "        net = net.cuda(3)\n",
    "        crit = crit.cuda(3)\n",
    "\n",
    "    past_task_params = []\n",
    "    past_fisher_mat = []\n",
    "    optim = torch.optim.SGD(net.parameters(), lr=0.001)\n",
    "    ewc_acc_per_ld = {}\n",
    "    for t in range(num_task):\n",
    "        train.EWCLearning(\n",
    "            past_task_params = past_task_params,\n",
    "            past_fisher_mat = past_fisher_mat,\n",
    "            dataloader = train_loader[t],\n",
    "            epochs = epochs,\n",
    "            optim = optim,\n",
    "            crit = crit,\n",
    "            net = net,\n",
    "            ld = ld\n",
    "        )\n",
    "\n",
    "        each_task_acc, acc_mean = evalu.eval(\n",
    "            dataloader = test_loader,\n",
    "            num_task = t,\n",
    "            net = net\n",
    "        )\n",
    "        print(each_task_acc)\n",
    "        ewc_acc_per_ld[t] = acc_mean\n",
    "        \n",
    "    ewc_acc[ld] = ewc_acc_per_ld"
   ]
  },
  {
   "cell_type": "code",
   "execution_count": 8,
   "metadata": {},
   "outputs": [
    {
     "name": "stdout",
     "output_type": "stream",
     "text": [
      "{100: {0: tensor(92.4900, device='cuda:3'), 1: tensor(92.6300, device='cuda:3'), 2: tensor(92.7533, device='cuda:3'), 3: tensor(92.8250, device='cuda:3'), 4: tensor(92.5880, device='cuda:3'), 5: tensor(92.1250, device='cuda:3'), 6: tensor(91.8271, device='cuda:3'), 7: tensor(90.6362, device='cuda:3'), 8: tensor(89.9400, device='cuda:3'), 9: tensor(89.9090, device='cuda:3')}, 300: {0: tensor(92.1700, device='cuda:3'), 1: tensor(92.4950, device='cuda:3'), 2: tensor(92.5433, device='cuda:3'), 3: tensor(92.7675, device='cuda:3'), 4: tensor(92.4000, device='cuda:3'), 5: tensor(91.6733, device='cuda:3'), 6: tensor(91.0114, device='cuda:3'), 7: tensor(89.2300, device='cuda:3'), 8: tensor(87.0400, device='cuda:3'), 9: tensor(85.9270, device='cuda:3')}, 1000: {0: tensor(92.3700, device='cuda:3'), 1: tensor(92.6450, device='cuda:3'), 2: tensor(92.5600, device='cuda:3'), 3: tensor(92.7475, device='cuda:3'), 4: tensor(91.9260, device='cuda:3'), 5: tensor(90.8067, device='cuda:3'), 6: tensor(89.2271, device='cuda:3'), 7: tensor(86.6487, device='cuda:3'), 8: tensor(84.9200, device='cuda:3'), 9: tensor(82.8400, device='cuda:3')}, 3000: {0: tensor(92.3800, device='cuda:3'), 1: tensor(92.5200, device='cuda:3'), 2: tensor(92.5467, device='cuda:3'), 3: tensor(92.1225, device='cuda:3'), 4: tensor(91.0560, device='cuda:3'), 5: tensor(90.1100, device='cuda:3'), 6: tensor(88.3629, device='cuda:3'), 7: tensor(86.9950, device='cuda:3'), 8: tensor(85.0178, device='cuda:3'), 9: tensor(80.9240, device='cuda:3')}}\n",
      "tensor([90.2500, 90.7800, 87.7300, 88.0900, 83.2900, 83.1000, 79.9200, 65.3200,\n",
      "        50.6500, 90.1100], device='cuda:3')\n"
     ]
    }
   ],
   "source": [
    "print(ewc_acc)\n",
    "print(each_task_acc)"
   ]
  },
  {
   "cell_type": "code",
   "execution_count": 7,
   "metadata": {},
   "outputs": [
    {
     "data": {
      "image/png": "[encoded data removed]",
      "text/plain": [
       "<Figure size 432x288 with 1 Axes>"
      ]
     },
     "metadata": {
      "needs_background": "light"
     },
     "output_type": "display_data"
    }
   ],
   "source": [
    "plt.xlabel(\"# of tasks\")\n",
    "plt.ylabel(\"Avg. acc\")\n",
    "plt.title(\"Average Accuracies w.r.t. regularization rates: EWC\")\n",
    "\n",
    "for coef, acc_dict in ewc_acc.items():\n",
    "    x, y = list(acc_dict.keys()), list(acc_dict.values())\n",
    "    plt.plot(x, y, label=str(coef))\n",
    "\n",
    "plt.legend(loc=3)\n",
    "plt.show()"
   ]
  },
  {
   "cell_type": "code",
   "execution_count": 11,
   "metadata": {},
   "outputs": [
    {
     "name": "stdout",
     "output_type": "stream",
     "text": [
      "{100: {0: tensor(92.5200, device='cuda:3'), 1: tensor(92.6150, device='cuda:3'), 2: tensor(92.6567, device='cuda:3'), 3: tensor(92.8725, device='cuda:3'), 4: tensor(92.6580, device='cuda:3'), 5: tensor(92.2333, device='cuda:3'), 6: tensor(91.6029, device='cuda:3'), 7: tensor(90.8025, device='cuda:3'), 8: tensor(89.7800, device='cuda:3'), 9: tensor(89.2740, device='cuda:3')}}\n"
     ]
    },
    {
     "data": {
      "image/png": "[encoded data removed]",
      "text/plain": [
       "<Figure size 432x288 with 1 Axes>"
      ]
     },
     "metadata": {
      "needs_background": "light"
     },
     "output_type": "display_data"
    }
   ],
   "source": [
    "print(ewc_acc)\n",
    "plt.xlabel(\"# of tasks\")\n",
    "plt.ylabel(\"Avg. acc\")\n",
    "plt.title(\"Average Accuracies w.r.t. regularization rates: EWC\")\n",
    "\n",
    "for coef, acc_dict in ewc_acc.items():\n",
    "    x, y = list(acc_dict.keys()), list(acc_dict.values())\n",
    "    plt.plot(x, y, label=str(coef))\n",
    "\n",
    "plt.legend(loc=3)\n",
    "plt.show()"
   ]
  },
  {
   "cell_type": "code",
   "execution_count": null,
   "metadata": {},
   "outputs": [],
   "source": []
  }
 ],
 "metadata": {
  "kernelspec": {
   "display_name": "Python 3",
   "language": "python",
   "name": "python3"
  },
  "language_info": {
   "codemirror_mode": {
    "name": "ipython",
    "version": 3
   },
   "file_extension": ".py",
   "mimetype": "text/x-python",
   "name": "python",
   "nbconvert_exporter": "python",
   "pygments_lexer": "ipython3",
   "version": "3.7.7"
  }
 },
 "nbformat": 4,
 "nbformat_minor": 2
}
