{
 "cells": [
  {
   "cell_type": "code",
   "execution_count": 1,
   "metadata": {},
   "outputs": [],
   "source": [
    "import torch\n",
    "import torchvision\n",
    "import numpy as np\n",
    "import matplotlib.pyplot as plt\n",
    "\n",
    "import lib.PMNISTDataLoader as DataLoader\n",
    "import lib.models as models\n",
    "import lib.train as train\n",
    "import lib.eval as eval\n",
    "import lib.lib as lib"
   ]
  },
  {
   "cell_type": "code",
   "execution_count": 2,
   "metadata": {},
   "outputs": [
    {
     "name": "stderr",
     "output_type": "stream",
     "text": [
      "/usr/local/lib/python3.6/dist-packages/torchvision/datasets/mnist.py:53: UserWarning: train_data has been renamed data\n",
      "  warnings.warn(\"train_data has been renamed data\")\n",
      "/usr/local/lib/python3.6/dist-packages/torchvision/datasets/mnist.py:58: UserWarning: test_data has been renamed data\n",
      "  warnings.warn(\"test_data has been renamed data\")\n"
     ]
    }
   ],
   "source": [
    "num_task = 10\n",
    "batch_size = 64\n",
    "train_loader, test_loader = lib.setPMNISTDataLoader(num_task, batch_size)"
   ]
  },
  {
   "cell_type": "markdown",
   "metadata": {},
   "source": [
    "### Plain"
   ]
  },
  {
   "cell_type": "code",
   "execution_count": 8,
   "metadata": {},
   "outputs": [
    {
     "name": "stderr",
     "output_type": "stream",
     "text": [
      "/usr/local/lib/python3.6/dist-packages/torchvision/datasets/mnist.py:43: UserWarning: train_labels has been renamed targets\n",
      "  warnings.warn(\"train_labels has been renamed targets\")\n"
     ]
    },
    {
     "name": "stdout",
     "output_type": "stream",
     "text": [
      "[Epoch 10/20] Loss: 693.789\n",
      "[Epoch 20/20] Loss: 394.276\n"
     ]
    },
    {
     "name": "stderr",
     "output_type": "stream",
     "text": [
      "/usr/local/lib/python3.6/dist-packages/torchvision/datasets/mnist.py:48: UserWarning: test_labels has been renamed targets\n",
      "  warnings.warn(\"test_labels has been renamed targets\")\n"
     ]
    },
    {
     "name": "stdout",
     "output_type": "stream",
     "text": [
      "[Task 1] avg accuracy: 89.050%\n",
      "tensor([89.0500], device='cuda:0')\n",
      "[Epoch 10/20] Loss: 382.522\n",
      "[Epoch 20/20] Loss: 315.531\n",
      "[Task 2] avg accuracy: 88.410%\n",
      "tensor([86.1300, 90.6900], device='cuda:0')\n",
      "[Epoch 10/20] Loss: 346.645\n",
      "[Epoch 20/20] Loss: 291.194\n",
      "[Task 3] avg accuracy: 87.613%\n",
      "tensor([82.9000, 88.4900, 91.4500], device='cuda:0')\n",
      "[Epoch 10/20] Loss: 322.557\n",
      "[Epoch 20/20] Loss: 270.542\n",
      "[Task 4] avg accuracy: 86.405%\n",
      "tensor([79.8600, 86.2800, 87.4900, 91.9900], device='cuda:0')\n",
      "[Epoch 10/20] Loss: 313.694\n",
      "[Epoch 20/20] Loss: 262.187\n",
      "[Task 5] avg accuracy: 83.506%\n",
      "tensor([77.1500, 80.1900, 80.0300, 87.9900, 92.1700], device='cuda:0')\n",
      "[Epoch 10/20] Loss: 307.819\n",
      "[Epoch 20/20] Loss: 255.144\n",
      "[Task 6] avg accuracy: 82.517%\n",
      "tensor([69.6400, 79.7300, 81.4300, 83.9400, 87.9500, 92.4100], device='cuda:0')\n",
      "[Epoch 10/20] Loss: 296.381\n",
      "[Epoch 20/20] Loss: 242.440\n",
      "[Task 7] avg accuracy: 74.904%\n",
      "tensor([59.3800, 73.4500, 61.6400, 74.4200, 76.0600, 86.5200, 92.8600],\n",
      "       device='cuda:0')\n",
      "[Epoch 10/20] Loss: 287.089\n",
      "[Epoch 20/20] Loss: 237.009\n",
      "[Task 8] avg accuracy: 75.430%\n",
      "tensor([67.5700, 68.2000, 63.2600, 63.6800, 78.2300, 81.4200, 88.0700, 93.0100],\n",
      "       device='cuda:0')\n",
      "[Epoch 10/20] Loss: 275.459\n",
      "[Epoch 20/20] Loss: 222.361\n",
      "[Task 9] avg accuracy: 72.513%\n",
      "tensor([56.8600, 62.8200, 66.6300, 52.3900, 71.7700, 79.3700, 80.9000, 88.5700,\n",
      "        93.3100], device='cuda:0')\n",
      "[Epoch 10/20] Loss: 271.443\n",
      "[Epoch 20/20] Loss: 219.753\n",
      "[Task 10] avg accuracy: 73.039%\n",
      "tensor([51.0100, 60.5500, 63.5800, 63.8900, 67.2600, 78.7400, 77.7300, 84.4400,\n",
      "        89.5500, 93.6400], device='cuda:0')\n"
     ]
    }
   ],
   "source": [
    "hidden_layer_num = 400\n",
    "epochs = 20\n",
    "\n",
    "net = models.FCNetwork(hidden_layer_num)\n",
    "crit = torch.nn.CrossEntropyLoss()\n",
    "if torch.cuda.is_available():\n",
    "    net = net.cuda()\n",
    "    crit = crit.cuda()\n",
    "\n",
    "optim = torch.optim.SGD(net.parameters(), lr=0.001)    \n",
    "plain_acc = {}\n",
    "for t in range(num_task):\n",
    "    train.FineTuning(\n",
    "        dataloader = train_loader[t],\n",
    "        epochs = epochs, \n",
    "        optim = optim,\n",
    "        crit = crit,\n",
    "        net = net,\n",
    "    )\n",
    "    \n",
    "    each_task_acc, acc_mean = eval.eval(\n",
    "        dataloader = test_loader,\n",
    "        num_task = t,\n",
    "        net = net\n",
    "    )\n",
    "    print(each_task_acc)\n",
    "    plain_acc[t] = acc_mean\n"
   ]
  },
  {
   "cell_type": "code",
   "execution_count": 11,
   "metadata": {},
   "outputs": [
    {
     "data": {
      "image/png": "[encoded data removed]",
      "text/plain": [
       "<Figure size 432x288 with 1 Axes>"
      ]
     },
     "metadata": {
      "needs_background": "light"
     },
     "output_type": "display_data"
    }
   ],
   "source": [
    "x, y = list(plain_acc.keys()), list(plain_acc.values())\n",
    "plt.xlabel('# of tasks')\n",
    "plt.ylabel('Average Accruacy')\n",
    "plt.title('Average Accuracy: Plain SGD')\n",
    "plt.plot(x, y)\n",
    "plt.show()"
   ]
  },
  {
   "cell_type": "markdown",
   "metadata": {},
   "source": [
    "### L2"
   ]
  },
  {
   "cell_type": "code",
   "execution_count": null,
   "metadata": {},
   "outputs": [
    {
     "name": "stdout",
     "output_type": "stream",
     "text": [
      "[Epoch 10/20] Loss: 661.806\n",
      "[Epoch 20/20] Loss: 383.701\n",
      "[Task 1] avg accuracy: 89.340%\n",
      "tensor([89.3400], device='cuda:0')\n",
      "[Epoch 10/20] Loss: 377.541\n",
      "[Epoch 20/20] Loss: 310.760\n",
      "[Task 2] avg accuracy: 88.175%\n",
      "tensor([85.2700, 91.0800], device='cuda:0')\n",
      "[Epoch 10/20] Loss: 340.400\n",
      "[Epoch 20/20] Loss: 289.100\n",
      "[Task 3] avg accuracy: 86.690%\n",
      "tensor([78.5700, 90.0300, 91.4700], device='cuda:0')\n",
      "[Epoch 10/20] Loss: 332.016\n",
      "[Epoch 20/20] Loss: 279.227\n",
      "[Task 4] avg accuracy: 85.440%\n",
      "tensor([75.1800, 86.8200, 87.7800, 91.9800], device='cuda:0')\n",
      "[Epoch 10/20] Loss: 323.801\n",
      "[Epoch 20/20] Loss: 272.544\n",
      "[Task 5] avg accuracy: 83.550%\n",
      "tensor([73.4500, 81.6900, 83.5100, 86.7800, 92.3200], device='cuda:0')\n",
      "[Epoch 10/20] Loss: 324.190\n",
      "[Epoch 20/20] Loss: 273.980\n",
      "[Task 6] avg accuracy: 81.320%\n",
      "tensor([71.3300, 79.3400, 74.5600, 81.2300, 88.7700, 92.6900], device='cuda:0')\n",
      "[Epoch 10/20] Loss: 321.945\n",
      "[Epoch 20/20] Loss: 272.708\n",
      "[Task 7] avg accuracy: 80.950%\n",
      "tensor([70.6700, 74.1600, 78.2000, 75.2200, 85.4700, 90.2100, 92.7200],\n",
      "       device='cuda:0')\n",
      "[Epoch 10/20] Loss: 331.249\n",
      "[Epoch 20/20] Loss: 281.884\n",
      "[Task 8] avg accuracy: 74.630%\n",
      "tensor([52.6500, 69.2900, 60.7500, 65.9200, 82.3900, 85.9500, 87.0700, 93.0200],\n",
      "       device='cuda:0')\n",
      "[Epoch 20/20] Loss: 292.101\n",
      "[Task 9] avg accuracy: 68.894%\n",
      "tensor([44.3300, 63.6300, 57.1600, 42.4600, 77.4600, 73.1800, 77.7800, 90.8400,\n",
      "        93.2100], device='cuda:0')\n",
      "[Epoch 10/20] Loss: 351.912\n",
      "[Epoch 20/20] Loss: 303.482\n",
      "[Task 10] avg accuracy: 68.373%\n",
      "tensor([53.5900, 61.7600, 54.9500, 44.7400, 68.1900, 71.2300, 65.7900, 82.4000,\n",
      "        88.0800, 93.0000], device='cuda:0')\n",
      "[Epoch 10/20] Loss: 480.558\n",
      "[Epoch 20/20] Loss: 419.719\n",
      "[Task 1] avg accuracy: 92.970%\n",
      "tensor([92.9700], device='cuda:0')\n",
      "[Epoch 10/20] Loss: 432.366\n",
      "[Epoch 20/20] Loss: 390.209\n",
      "[Task 2] avg accuracy: 91.155%\n",
      "tensor([88.6500, 93.6600], device='cuda:0')\n",
      "[Epoch 10/20] Loss: 428.839\n",
      "[Epoch 20/20] Loss: 397.361\n",
      "[Task 3] avg accuracy: 88.960%\n",
      "tensor([81.5800, 91.7000, 93.6000], device='cuda:0')\n",
      "[Epoch 10/20] Loss: 446.085\n",
      "[Epoch 20/20] Loss: 419.213\n",
      "[Task 4] avg accuracy: 87.540%\n",
      "tensor([80.2500, 88.1000, 88.2800, 93.5300], device='cuda:0')\n",
      "[Epoch 10/20] Loss: 476.081\n",
      "[Epoch 20/20] Loss: 449.963\n",
      "[Task 5] avg accuracy: 83.982%\n",
      "tensor([79.1500, 84.3500, 77.2800, 85.7000, 93.4300], device='cuda:0')\n",
      "[Epoch 10/20] Loss: 512.694\n",
      "[Epoch 20/20] Loss: 485.724\n",
      "[Task 6] avg accuracy: 81.658%\n",
      "tensor([79.2200, 84.1600, 70.0300, 75.3300, 87.9200, 93.2900], device='cuda:0')\n",
      "[Epoch 10/20] Loss: 546.096\n",
      "[Epoch 20/20] Loss: 519.053\n",
      "[Task 7] avg accuracy: 81.497%\n",
      "tensor([81.4300, 83.4800, 78.0300, 69.5800, 78.8700, 86.0600, 93.0300],\n",
      "       device='cuda:0')\n",
      "[Epoch 10/20] Loss: 593.004\n",
      "[Epoch 20/20] Loss: 564.587\n",
      "[Task 8] avg accuracy: 71.755%\n",
      "tensor([73.2300, 84.5100, 68.0600, 60.1700, 60.4400, 66.3600, 68.4800, 92.7900],\n",
      "       device='cuda:0')\n",
      "[Epoch 10/20] Loss: 629.282\n",
      "[Epoch 20/20] Loss: 598.932\n",
      "[Task 9] avg accuracy: 66.733%\n",
      "tensor([74.1100, 83.5500, 71.4100, 49.8400, 62.6900, 53.5300, 41.5900, 71.3000,\n",
      "        92.5800], device='cuda:0')\n",
      "[Epoch 10/20] Loss: 670.750\n",
      "[Epoch 20/20] Loss: 640.439\n",
      "[Task 10] avg accuracy: 63.182%\n",
      "tensor([81.9900, 80.5700, 75.6000, 58.3100, 61.9100, 45.0600, 37.6200, 37.7100,\n",
      "        60.7500, 92.3000], device='cuda:0')\n",
      "[Epoch 10/20] Loss: 1281.648\n",
      "[Epoch 20/20] Loss: 1273.309\n",
      "[Task 1] avg accuracy: 90.950%\n",
      "tensor([90.9500], device='cuda:0')\n",
      "[Epoch 10/20] Loss: 1314.343\n",
      "[Epoch 20/20] Loss: 1313.697\n",
      "[Task 2] avg accuracy: 86.850%\n",
      "tensor([81.7700, 91.9300], device='cuda:0')\n",
      "[Epoch 10/20] Loss: 1407.779\n",
      "[Epoch 20/20] Loss: 1407.453\n",
      "[Task 3] avg accuracy: 86.983%\n",
      "tensor([80.2700, 88.9900, 91.6900], device='cuda:0')\n"
     ]
    }
   ],
   "source": [
    "hidden_layer_num = 400\n",
    "epochs = 20\n",
    "\n",
    "ld_list = [0.0001, 0.0003, 0.001, 0.003, 0.01, 0.03, 0.1, 0.3, 1]\n",
    "#past_task_params = torch.empty(0)\n",
    "past_task_params = []\n",
    "l2_acc = {}\n",
    "\n",
    "net = models.FCNetwork(hidden_layer_num)\n",
    "crit = torch.nn.CrossEntropyLoss()\n",
    "if torch.cuda.is_available():\n",
    "    #past_task_params = past_task_params.cuda()\n",
    "    net = net.cuda()\n",
    "    crit = crit.cuda()\n",
    "\n",
    "optim = torch.optim.SGD(net.parameters(), lr=0.001)    \n",
    "\n",
    "\n",
    "for ld in ld_list:\n",
    "    l2_acc_per_ld = {}\n",
    "    for t in range(num_task):\n",
    "        train.L2Learning(\n",
    "            past_task_params = past_task_params,\n",
    "            dataloader = train_loader[t],\n",
    "            epochs = epochs,\n",
    "            optim = optim,\n",
    "            crit = crit,\n",
    "            net = net,\n",
    "            ld = ld\n",
    "        )\n",
    "\n",
    "        each_task_acc, acc_mean = eval.eval(\n",
    "            dataloader = test_loader,\n",
    "            num_task = t,\n",
    "            net = net\n",
    "        )\n",
    "        print(each_task_acc)\n",
    "        l2_acc_per_ld[t] = acc_mean\n",
    "        \n",
    "    l2_acc[ld] = l2_acc_per_ld"
   ]
  },
  {
   "cell_type": "markdown",
   "metadata": {},
   "source": [
    "### Fisher"
   ]
  },
  {
   "cell_type": "code",
   "execution_count": null,
   "metadata": {},
   "outputs": [],
   "source": []
  }
 ],
 "metadata": {
  "kernelspec": {
   "display_name": "Python 3",
   "language": "python",
   "name": "python3"
  },
  "language_info": {
   "codemirror_mode": {
    "name": "ipython",
    "version": 3
   },
   "file_extension": ".py",
   "mimetype": "text/x-python",
   "name": "python",
   "nbconvert_exporter": "python",
   "pygments_lexer": "ipython3",
   "version": "3.6.10"
  }
 },
 "nbformat": 4,
 "nbformat_minor": 2
}
